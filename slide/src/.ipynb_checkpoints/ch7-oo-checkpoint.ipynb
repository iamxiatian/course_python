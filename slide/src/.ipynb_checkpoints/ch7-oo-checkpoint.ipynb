{
 "metadata": {
  "name": "",
  "signature": "sha256:f6ad7ac2e8fa876d804f52c149ff589b063b0f818906d54b48c2eb732167ca8a"
 },
 "nbformat": 3,
 "nbformat_minor": 0,
 "worksheets": [
  {
   "cells": [
    {
     "cell_type": "code",
     "collapsed": false,
     "input": [],
     "language": "python",
     "metadata": {},
     "outputs": []
    }
   ],
   "metadata": {}
  }
 ]
}