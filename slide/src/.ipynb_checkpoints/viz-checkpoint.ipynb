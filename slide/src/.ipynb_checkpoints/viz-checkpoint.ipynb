{
 "cells": [
  {
   "cell_type": "code",
   "execution_count": 14,
   "metadata": {
    "collapsed": false
   },
   "outputs": [],
   "source": [
    "import numpy as np\n",
    "\n",
    "from bokeh.plotting import figure, show, output_file, vplot\n",
    "\n",
    "x = np.linspace(0, 20, 201)\n",
    "y = np.log2(x)\n",
    "y2 = np.log(x)\n",
    "y3=np.log1p(x)\n",
    "\n",
    "TOOLS = \"pan,wheel_zoom,box_zoom,reset,save,box_select\"\n",
    "\n",
    "p1 = figure(title=\"Legend Example\", tools=TOOLS)\n",
    "\n",
    "p1.circle(x,   y, legend=\"log2(x)\")\n",
    "p1.circle(x, y2, legend=\"log(x)\", color=\"orange\")\n",
    "p1.circle(x, y3, legend=\"log1p(x)\", color=\"green\")\n",
    "\n",
    "p2 = figure(title=\"Another Legend Example\", tools=TOOLS)\n",
    "\n",
    "p2.circle(x, y, legend=\"log2(x)\")\n",
    "p2.line(x, y, legend=\"log2(x)\")\n",
    "\n",
    "p2.line(x, y2, legend=\"log(x)\",\n",
    "        line_dash=(4, 4), line_color=\"orange\", line_width=2)\n",
    "\n",
    "p2.square(x, y3, legend=\"log1p(x)\", fill_color=None, line_color=\"green\")\n",
    "p2.line(x, y3, legend=\"log1p(x)\", line_color=\"green\")\n",
    "\n",
    "output_file(\"legend.html\", title=\"legend.py example\")\n",
    "\n",
    "show(vplot(p1, p2))  # open a browser"
   ]
  },
  {
   "cell_type": "code",
   "execution_count": 9,
   "metadata": {
    "collapsed": false
   },
   "outputs": [
    {
     "name": "stdout",
     "output_type": "stream",
     "text": [
      "[  0.   1.   2.   3.   4.   5.   6.   7.   8.   9.  10.]\n"
     ]
    }
   ],
   "source": [
    "x = np.linspace(0, 10, 11)\n",
    "print(x)"
   ]
  },
  {
   "cell_type": "code",
   "execution_count": null,
   "metadata": {
    "collapsed": true
   },
   "outputs": [],
   "source": []
  }
 ],
 "metadata": {
  "kernelspec": {
   "display_name": "Python 3",
   "language": "python",
   "name": "python3"
  },
  "language_info": {
   "codemirror_mode": {
    "name": "ipython",
    "version": 3
   },
   "file_extension": ".py",
   "mimetype": "text/x-python",
   "name": "python",
   "nbconvert_exporter": "python",
   "pygments_lexer": "ipython3",
   "version": "3.5.1"
  }
 },
 "nbformat": 4,
 "nbformat_minor": 0
}
