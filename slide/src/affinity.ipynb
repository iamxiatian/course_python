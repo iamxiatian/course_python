{
 "cells": [
  {
   "cell_type": "code",
   "execution_count": 4,
   "metadata": {
    "collapsed": false
   },
   "outputs": [
    {
     "name": "stdout",
     "output_type": "stream",
     "text": [
      "\n",
      "=================================================\n",
      "Demo of affinity propagation clustering algorithm\n",
      "=================================================\n",
      "\n",
      "Reference:\n",
      "Brendan J. Frey and Delbert Dueck, \"Clustering by Passing Messages\n",
      "Between Data Points\", Science Feb. 2007\n",
      "\n",
      "\n",
      "[0 1 1 0 0 1 2 2 1 0 2 0 0 2 0 2 2 2 2 2 0 0 0 0 2 0 2 1 2 1 1 2 0 1 2 1 1\n",
      " 1 1 0 0 0 2 0 1 2 2 2 2 0 0 0 2 1 1 1 1 0 1 0 2 1 1 2 2 2 2 0 1 0 1 2 0 0\n",
      " 2 2 1 1 0 2 1 0 2 1 1 0 0 1 2 0 1 0 1 0 1 0 1 2 0 2 0 0 2 0 0 1 1 2 1 1 1\n",
      " 1 1 2 0 1 2 2 1 2 1 1 1 1 1 1 0 2 2 2 0 2 2 1 0 1 0 2 1 0 2 2 2 0 2 0 1 2\n",
      " 2 1 1 0 0 0 1 0 1 0 0 0 0 2 1 0 2 2 2 1 0 0 0 2 2 0 0 0 0 2 2 0 2 0 0 1 2\n",
      " 0 1 2 0 1 1 1 0 2 1 2 0 2 0 2 0 0 2 1 1 1 1 0 2 2 0 1 1 1 0 2 0 0 2 0 1 1\n",
      " 0 1 2 2 2 0 0 1 2 2 2 1 2 0 1 1 0 1 1 2 0 1 2 0 0 2 0 2 2 2 1 0 2 2 0 1 1\n",
      " 1 1 0 0 0 0 0 2 2 1 0 0 1 1 1 2 1 2 1 1 2 2 2 1 2 0 2 1 0 2 1 1 2 1 1 1 2\n",
      " 0 1 2 2]\n"
     ]
    }
   ],
   "source": [
    "\"\"\"\n",
    "=================================================\n",
    "Demo of affinity propagation clustering algorithm\n",
    "=================================================\n",
    "\n",
    "Reference:\n",
    "Brendan J. Frey and Delbert Dueck, \"Clustering by Passing Messages\n",
    "Between Data Points\", Science Feb. 2007\n",
    "\n",
    "\"\"\"\n",
    "print(__doc__)\n",
    "\n",
    "from sklearn.cluster import AffinityPropagation\n",
    "from sklearn import metrics\n",
    "from sklearn.datasets.samples_generator import make_blobs\n",
    "\n",
    "##############################################################################\n",
    "# Generate sample data\n",
    "centers = [[1, 1], [-1, -1], [1, -1]]\n",
    "X, labels_true = make_blobs(n_samples=300, centers=centers, cluster_std=0.5,\n",
    "                            random_state=0)\n",
    "print(labels_true)\n",
    "\n"
   ]
  },
  {
   "cell_type": "code",
   "execution_count": null,
   "metadata": {
    "collapsed": true
   },
   "outputs": [],
   "source": [
    "\n",
    "\n",
    "##############################################################################\n",
    "# Compute Affinity Propagation\n",
    "af = AffinityPropagation(preference=-50).fit(X)\n",
    "cluster_centers_indices = af.cluster_centers_indices_\n",
    "labels = af.labels_\n",
    "\n",
    "n_clusters_ = len(cluster_centers_indices)\n",
    "\n",
    "print('Estimated number of clusters: %d' % n_clusters_)\n",
    "print(\"Homogeneity: %0.3f\" % metrics.homogeneity_score(labels_true, labels))\n",
    "print(\"Completeness: %0.3f\" % metrics.completeness_score(labels_true, labels))\n",
    "print(\"V-measure: %0.3f\" % metrics.v_measure_score(labels_true, labels))\n",
    "print(\"Adjusted Rand Index: %0.3f\"\n",
    "      % metrics.adjusted_rand_score(labels_true, labels))\n",
    "print(\"Adjusted Mutual Information: %0.3f\"\n",
    "      % metrics.adjusted_mutual_info_score(labels_true, labels))\n",
    "print(\"Silhouette Coefficient: %0.3f\"\n",
    "      % metrics.silhouette_score(X, labels, metric='sqeuclidean'))\n",
    "\n",
    "##############################################################################\n",
    "# Plot result\n",
    "import matplotlib.pyplot as plt\n",
    "from itertools import cycle\n",
    "\n",
    "plt.close('all')\n",
    "plt.figure(1)\n",
    "plt.clf()\n",
    "\n",
    "colors = cycle('bgrcmykbgrcmykbgrcmykbgrcmyk')\n",
    "for k, col in zip(range(n_clusters_), colors):\n",
    "    class_members = labels == k\n",
    "    cluster_center = X[cluster_centers_indices[k]]\n",
    "    plt.plot(X[class_members, 0], X[class_members, 1], col + '.')\n",
    "    plt.plot(cluster_center[0], cluster_center[1], 'o', markerfacecolor=col,\n",
    "             markeredgecolor='k', markersize=14)\n",
    "    for x in X[class_members]:\n",
    "        plt.plot([cluster_center[0], x[0]], [cluster_center[1], x[1]], col)\n",
    "\n",
    "plt.title('Estimated number of clusters: %d' % n_clusters_)\n",
    "plt.show()"
   ]
  }
 ],
 "metadata": {
  "kernelspec": {
   "display_name": "Python 3",
   "language": "python",
   "name": "python3"
  },
  "language_info": {
   "codemirror_mode": {
    "name": "ipython",
    "version": 3
   },
   "file_extension": ".py",
   "mimetype": "text/x-python",
   "name": "python",
   "nbconvert_exporter": "python",
   "pygments_lexer": "ipython3",
   "version": "3.5.1"
  }
 },
 "nbformat": 4,
 "nbformat_minor": 0
}
